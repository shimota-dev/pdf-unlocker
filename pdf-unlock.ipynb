{
 "cells": [
  {
   "cell_type": "code",
   "execution_count": null,
   "id": "8a3dab6b-b944-4e21-b782-6f0dfea93711",
   "metadata": {},
   "outputs": [],
   "source": [
    "import pathlib\n",
    "\n",
    "from pikepdf import Pdf\n",
    "\n",
    "src = pathlib.Path(\"./mysql-book.pdf\")\n",
    "dst = pathlib.Path(src.with_stem(src.stem + \"-unlocked\"))\n",
    "print(f\"{src} -> {dst}\")\n",
    "with Pdf.open(src) as pdf:\n",
    "    pdf.save(dst)"
   ]
  }
 ],
 "metadata": {
  "kernelspec": {
   "display_name": "Python 3 (ipykernel)",
   "language": "python",
   "name": "python3"
  },
  "language_info": {
   "codemirror_mode": {
    "name": "ipython",
    "version": 3
   },
   "file_extension": ".py",
   "mimetype": "text/x-python",
   "name": "python",
   "nbconvert_exporter": "python",
   "pygments_lexer": "ipython3",
   "version": "3.11.9"
  }
 },
 "nbformat": 4,
 "nbformat_minor": 5
}
