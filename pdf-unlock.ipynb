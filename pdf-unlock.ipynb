{
 "cells": [
  {
   "cell_type": "code",
   "execution_count": 3,
   "id": "d65cc49c-60bd-416b-af74-27304663d14a",
   "metadata": {},
   "outputs": [
    {
     "name": "stdout",
     "output_type": "stream",
     "text": [
      "Collecting pikepdf\n",
      "  Obtaining dependency information for pikepdf from https://files.pythonhosted.org/packages/ad/59/15ee3a5e487017aede8010f17614d88e484cf35061d46951dd0f5100f953/pikepdf-9.1.1-cp311-cp311-macosx_14_0_arm64.whl.metadata\n",
      "  Downloading pikepdf-9.1.1-cp311-cp311-macosx_14_0_arm64.whl.metadata (8.1 kB)\n",
      "Requirement already satisfied: Pillow>=10.0.1 in /Users/watarushimota/anaconda3/envs/juplab-learn/lib/python3.11/site-packages (from pikepdf) (10.3.0)\n",
      "Collecting Deprecated (from pikepdf)\n",
      "  Obtaining dependency information for Deprecated from https://files.pythonhosted.org/packages/20/8d/778b7d51b981a96554f29136cd59ca7880bf58094338085bcf2a979a0e6a/Deprecated-1.2.14-py2.py3-none-any.whl.metadata\n",
      "  Downloading Deprecated-1.2.14-py2.py3-none-any.whl.metadata (5.4 kB)\n",
      "Requirement already satisfied: lxml>=4.8 in /Users/watarushimota/anaconda3/envs/juplab-learn/lib/python3.11/site-packages (from pikepdf) (5.2.1)\n",
      "Requirement already satisfied: packaging in /Users/watarushimota/anaconda3/envs/juplab-learn/lib/python3.11/site-packages (from pikepdf) (23.2)\n",
      "Requirement already satisfied: wrapt<2,>=1.10 in /Users/watarushimota/anaconda3/envs/juplab-learn/lib/python3.11/site-packages (from Deprecated->pikepdf) (1.14.1)\n",
      "Downloading pikepdf-9.1.1-cp311-cp311-macosx_14_0_arm64.whl (4.4 MB)\n",
      "\u001b[2K   \u001b[90m━━━━━━━━━━━━━━━━━━━━━━━━━━━━━━━━━━━━━━━━\u001b[0m \u001b[32m4.4/4.4 MB\u001b[0m \u001b[31m15.3 MB/s\u001b[0m eta \u001b[36m0:00:00\u001b[0m00:01\u001b[0m00:01\u001b[0m\n",
      "\u001b[?25hDownloading Deprecated-1.2.14-py2.py3-none-any.whl (9.6 kB)\n",
      "Installing collected packages: Deprecated, pikepdf\n",
      "Successfully installed Deprecated-1.2.14 pikepdf-9.1.1\n"
     ]
    }
   ],
   "source": [
    "!pip install pikepdf"
   ]
  },
  {
   "cell_type": "code",
   "execution_count": 4,
   "id": "8a3dab6b-b944-4e21-b782-6f0dfea93711",
   "metadata": {},
   "outputs": [
    {
     "name": "stdout",
     "output_type": "stream",
     "text": [
      "mysql-book.pdf -> mysql-book-unlocked.pdf\n"
     ]
    }
   ],
   "source": [
    "import pathlib\n",
    "\n",
    "from pikepdf import Pdf\n",
    "\n",
    "src = pathlib.Path(\"./mysql-book.pdf\")\n",
    "dst = pathlib.Path(src.with_stem(src.stem + \"-unlocked\"))\n",
    "print(f\"{src} -> {dst}\")\n",
    "with Pdf.open(src) as pdf:\n",
    "    pdf.save(dst)"
   ]
  },
  {
   "cell_type": "code",
   "execution_count": null,
   "id": "6d1954a6-07b4-4f72-97d9-c5261868a98f",
   "metadata": {},
   "outputs": [],
   "source": []
  }
 ],
 "metadata": {
  "kernelspec": {
   "display_name": "Python 3 (ipykernel)",
   "language": "python",
   "name": "python3"
  },
  "language_info": {
   "codemirror_mode": {
    "name": "ipython",
    "version": 3
   },
   "file_extension": ".py",
   "mimetype": "text/x-python",
   "name": "python",
   "nbconvert_exporter": "python",
   "pygments_lexer": "ipython3",
   "version": "3.11.9"
  }
 },
 "nbformat": 4,
 "nbformat_minor": 5
}
